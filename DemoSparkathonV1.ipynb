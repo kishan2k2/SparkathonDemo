{
  "nbformat": 4,
  "nbformat_minor": 0,
  "metadata": {
    "colab": {
      "private_outputs": true,
      "provenance": []
    },
    "kernelspec": {
      "name": "python3",
      "display_name": "Python 3"
    },
    "language_info": {
      "name": "python"
    }
  },
  "cells": [
    {
      "cell_type": "markdown",
      "source": [
        "This project has comments to guide you through what's happening in the given code. Free free to comment your thoughts if you feel like."
      ],
      "metadata": {
        "id": "CgxGrk2MILHb"
      }
    },
    {
      "cell_type": "markdown",
      "source": [
        "# Importing necessary packages"
      ],
      "metadata": {
        "id": "Duby2Hp8AEzQ"
      }
    },
    {
      "cell_type": "code",
      "execution_count": null,
      "metadata": {
        "id": "vL5PXU6piNH7"
      },
      "outputs": [],
      "source": [
        "pip install Faker"
      ]
    },
    {
      "cell_type": "markdown",
      "source": [
        "# Creating Dataset having product Id and its cost respective to each hour of the day."
      ],
      "metadata": {
        "id": "cqMG4gj921ys"
      }
    },
    {
      "cell_type": "code",
      "source": [
        "import csv\n",
        "from faker import Faker\n",
        "import random\n",
        "\n",
        "# Initialize the Faker generator\n",
        "fake = Faker()\n",
        "\n",
        "# Specify the number of products and hours\n",
        "num_products = 10\n",
        "num_hours = 24\n",
        "\n",
        "# Create and open a CSV file for writing\n",
        "with open('fake_price_dataset_with_min_cost.csv', 'w', newline='') as csvfile:\n",
        "    fieldnames = ['product_id'] + [f'hour_{i}' for i in range(1, num_hours + 1)]\n",
        "    writer = csv.DictWriter(csvfile, fieldnames=fieldnames)\n",
        "\n",
        "    # Write the header row\n",
        "    writer.writeheader()\n",
        "\n",
        "    # Generate fake records and write to the CSV file\n",
        "    for product_id in range(1, num_products + 1):\n",
        "        product_data = {\n",
        "            'product_id': product_id,\n",
        "        }\n",
        "\n",
        "        base_price = round(random.uniform(50.0, 100.0), 2)  # Base price with lower variance\n",
        "        hour_prices = []\n",
        "\n",
        "        for hour in range(1, num_hours + 1):\n",
        "            price_variation = random.uniform(-5.0, 5.0)  # Small random variation\n",
        "            price = round(base_price + price_variation, 2)\n",
        "            hour_prices.append(price)\n",
        "\n",
        "        min_cost = round(sum(hour_prices) / num_hours, 2)  # Calculate average price as minimum cost\n",
        "\n",
        "        # Adjust hourly prices to match the calculated minimum cost\n",
        "        for hour in range(1, num_hours + 1):\n",
        "            price_difference = min_cost - hour_prices[hour - 1]\n",
        "            adjusted_price = round(min_cost + price_difference, 2)\n",
        "            product_data[f'hour_{hour}'] = adjusted_price\n",
        "\n",
        "        writer.writerow(product_data)\n",
        "\n",
        "print(f'Generated fake price dataset with minimum cost for {num_products} products over {num_hours} hours in fake_price_dataset_with_min_cost.csv')\n"
      ],
      "metadata": {
        "id": "SU9hSt-miOua"
      },
      "execution_count": null,
      "outputs": []
    },
    {
      "cell_type": "markdown",
      "source": [
        "# Base price/Minimum cost of selling calculation"
      ],
      "metadata": {
        "id": "HHBG88OKvpT_"
      }
    },
    {
      "cell_type": "code",
      "source": [
        "import pandas as pd\n",
        "\n",
        "# Load the dataset\n",
        "data = pd.read_csv('fake_price_dataset_with_min_cost.csv')\n",
        "\n",
        "# Iterate through each product and calculate the average of hourly prices\n",
        "for idx, row in data.iterrows():\n",
        "    product_id = row['product_id']\n",
        "    hourly_prices = row.iloc[1:].values  # Exclude the 'product_id' column\n",
        "    average_price = sum(hourly_prices) / len(hourly_prices)\n",
        "\n",
        "    # Calculate a base price as a percentage of the average price\n",
        "    base_price = average_price * 0.95  # Adjust the factor as needed\n",
        "\n",
        "    # Store the base price in a new column\n",
        "    data.at[idx, 'base_price'] = base_price\n",
        "\n",
        "# Save the updated DataFrame to a new CSV file\n",
        "data.to_csv('product_price_with_base_price.csv', index=False)\n",
        "\n",
        "print('Updated data saved to product_price_with_minSelling_price.csv')\n"
      ],
      "metadata": {
        "id": "plKnWzOUvrZG"
      },
      "execution_count": null,
      "outputs": []
    },
    {
      "cell_type": "markdown",
      "source": [
        "# Creating a new database of product availibity."
      ],
      "metadata": {
        "id": "mlwA-Syozx5C"
      }
    },
    {
      "cell_type": "code",
      "source": [
        "import pandas as pd\n",
        "import random"
      ],
      "metadata": {
        "id": "TIJ71w8t0DTS"
      },
      "execution_count": null,
      "outputs": []
    },
    {
      "cell_type": "code",
      "source": [
        "column = ['productId'] + [f'Hours_{i}' for i in range(1, 25)]\n",
        "productId = [f'Product_{i}' for i in range (1, 11)]"
      ],
      "metadata": {
        "id": "mVZHqTU50y0h"
      },
      "execution_count": null,
      "outputs": []
    },
    {
      "cell_type": "code",
      "source": [
        "df = pd.DataFrame(columns = column)\n",
        "df['productId'] = productId\n",
        "for index, row in df.iterrows():\n",
        "  for i in range (1, 25):\n",
        "    df.at[index, f'Hours_{i}'] = random.randint(0, 1)"
      ],
      "metadata": {
        "id": "_kR0mIp41AS6"
      },
      "execution_count": null,
      "outputs": []
    },
    {
      "cell_type": "code",
      "source": [
        "df.to_csv('Dataset_Availibity.csv')"
      ],
      "metadata": {
        "id": "IrCK2IfL1XKB"
      },
      "execution_count": null,
      "outputs": []
    },
    {
      "cell_type": "markdown",
      "source": [
        "# Idea is to make the product more visible with lesser price when it is less available and its cost is relatively more than its usual/Previous cost."
      ],
      "metadata": {
        "id": "w4OXPN4m1ngF"
      }
    },
    {
      "cell_type": "code",
      "source": [
        "# Load the dataset\n",
        "data = pd.read_csv('/content/product_price_with_base_price.csv')\n",
        "\n",
        "# Create a new DataFrame to store suggestions\n",
        "suggestions = data.copy()\n",
        "\n",
        "# Iterate through the data and provide suggestions\n",
        "for idx, row in data.iterrows():\n",
        "    BasePrice = row['base_price']\n",
        "    suggestions.at[idx, 'hour_1'] = \"No previous data available\"\n",
        "    for hour in range(2, 25):  # Start from the second hour\n",
        "        previous_hour_price = row[f'hour_{hour - 1}']\n",
        "        current_hour_price = row[f'hour_{hour}']\n",
        "\n",
        "        # Compare previous hour's price with current hour's price\n",
        "        if current_hour_price > previous_hour_price and current_hour_price > BasePrice:\n",
        "            suggestions.at[idx, f'hour_{hour}'] = f'Lower your price than {current_hour_price} and increase the visibility'\n",
        "        else :\n",
        "            suggestions.at[idx, f'hour_{hour}'] = f'Set the prices to between {BasePrice}-{current_hour_price}'\n",
        "\n",
        "# Save the suggestions to a CSV file\n",
        "suggestions.to_csv('price_change_suggestions.csv', index=False)\n",
        "\n",
        "print('Suggestions saved to price_change_suggestions.csv')\n"
      ],
      "metadata": {
        "id": "zmcbRj-YmWpj"
      },
      "execution_count": null,
      "outputs": []
    },
    {
      "cell_type": "markdown",
      "source": [
        "# Model to get instructions based on availibility"
      ],
      "metadata": {
        "id": "4xVAWJjMz48M"
      }
    },
    {
      "cell_type": "code",
      "source": [
        "data = pd.read_csv('/content/Dataset_Availibity.csv')\n",
        "InstructionToManagement = data.copy()\n",
        "for index, row in data.iterrows():\n",
        "  for i in range (1, 25):\n",
        "    if data.at[index, f'Hours_{i}'] == 0:\n",
        "      InstructionToManagement.at[index, f'Hours_{i}'] = 'Increase the visibility'\n",
        "    else:\n",
        "      InstructionToManagement.at[index, f'Hours_{i}'] = 'Do Nothing'\n",
        "InstructionToManagement.to_csv('InstructionToManagement.csv', index=False)"
      ],
      "metadata": {
        "id": "gEK0rUiZ5khj"
      },
      "execution_count": null,
      "outputs": []
    },
    {
      "cell_type": "markdown",
      "source": [
        "## For future we can do prediction of availalibity and prediction of price of the product in rival websites so we can take actions according to that. We can add that to our problem statement."
      ],
      "metadata": {
        "id": "fqDUKAwH2YIc"
      }
    },
    {
      "cell_type": "code",
      "source": [],
      "metadata": {
        "id": "_LPcYDOC5jjk"
      },
      "execution_count": null,
      "outputs": []
    }
  ]
}